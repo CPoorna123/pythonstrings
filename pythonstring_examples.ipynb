{
  "nbformat": 4,
  "nbformat_minor": 0,
  "metadata": {
    "colab": {
      "provenance": []
    },
    "kernelspec": {
      "name": "python3",
      "display_name": "Python 3"
    },
    "language_info": {
      "name": "python"
    }
  },
  "cells": [
    {
      "cell_type": "markdown",
      "source": [
        "###Take a string from the user and print it in uppercase and lowercase."
      ],
      "metadata": {
        "id": "JVgDsRwZGbTN"
      }
    },
    {
      "cell_type": "code",
      "source": [
        "a=input(\"enter the string:\")\n",
        "print(\"uppercase:\",a.upper())\n",
        "print(\"lowercase:\",a.lower())"
      ],
      "metadata": {
        "colab": {
          "base_uri": "https://localhost:8080/"
        },
        "id": "g4qj2S17GfOK",
        "outputId": "c9c26e6b-8d4c-47b5-c4e6-161a97b4ceb8"
      },
      "execution_count": 15,
      "outputs": [
        {
          "output_type": "stream",
          "name": "stdout",
          "text": [
            "enter the string:balaji\n",
            "uppercase: BALAJI\n",
            "lowercase: balaji\n"
          ]
        }
      ]
    },
    {
      "cell_type": "markdown",
      "source": [
        "###Check if a string is a palindrome (reads the same forwards and backwards).\n",
        "\n"
      ],
      "metadata": {
        "id": "IcykiBDYI7n_"
      }
    },
    {
      "cell_type": "code",
      "source": [
        "text=input(\"enter a sting\")\n",
        "if text==text[::-1]:\n",
        "  print(\"is palidrome\")\n",
        "else:\n",
        "  print(\"is not palindrome\")"
      ],
      "metadata": {
        "colab": {
          "base_uri": "https://localhost:8080/"
        },
        "id": "oUDicfKiJEZW",
        "outputId": "c04e3931-35be-47a7-8702-13d7c862fc6f"
      },
      "execution_count": 20,
      "outputs": [
        {
          "output_type": "stream",
          "name": "stdout",
          "text": [
            "enter a stingracecar\n",
            "is palidrome\n"
          ]
        }
      ]
    },
    {
      "cell_type": "markdown",
      "source": [
        "###Input a word and count the number of vowels in it."
      ],
      "metadata": {
        "id": "UncYJKDeK4jb"
      }
    },
    {
      "cell_type": "code",
      "source": [
        "word = input(\"Enter a word: \")\n",
        "vowels = \"aeiouAEIOU\"\n",
        "count = 0\n",
        "\n",
        "for char in word:\n",
        "    if char in vowels:\n",
        "        count += 1\n",
        "\n",
        "print(\"Number of vowels:\", count)"
      ],
      "metadata": {
        "colab": {
          "base_uri": "https://localhost:8080/"
        },
        "id": "woYqtqHkK8Hr",
        "outputId": "3b6f33c5-fc3e-479b-a9da-63cd53dd5b29"
      },
      "execution_count": 64,
      "outputs": [
        {
          "output_type": "stream",
          "name": "stdout",
          "text": [
            "Enter a word: dharani\n",
            "Number of vowels: 3\n"
          ]
        }
      ]
    },
    {
      "cell_type": "code",
      "source": [],
      "metadata": {
        "id": "G0utcJv_NTDg"
      },
      "execution_count": 64,
      "outputs": []
    },
    {
      "cell_type": "markdown",
      "source": [
        "###Slice the string \"abcdefg\" to get \"bcd\"."
      ],
      "metadata": {
        "id": "tA58ljLxOSXq"
      }
    },
    {
      "cell_type": "code",
      "source": [
        "a='abcdefg'\n",
        "new_a=a[1:4]\n",
        "print(new_a)"
      ],
      "metadata": {
        "colab": {
          "base_uri": "https://localhost:8080/"
        },
        "id": "j1xejNaeOU3L",
        "outputId": "af11f69d-2f26-46b2-c005-4786b675fd0e"
      },
      "execution_count": 36,
      "outputs": [
        {
          "output_type": "stream",
          "name": "stdout",
          "text": [
            "bcd\n"
          ]
        }
      ]
    },
    {
      "cell_type": "markdown",
      "source": [
        "###Reverse the string \"Python\" using slicing."
      ],
      "metadata": {
        "id": "1x754IkiO9j6"
      }
    },
    {
      "cell_type": "code",
      "source": [
        "w='python'\n",
        "new_w=w[::-1]\n",
        "print(new_w)"
      ],
      "metadata": {
        "colab": {
          "base_uri": "https://localhost:8080/"
        },
        "id": "fb7anyJnPQYL",
        "outputId": "2963455c-8958-4231-da65-2737e2448e50"
      },
      "execution_count": 39,
      "outputs": [
        {
          "output_type": "stream",
          "name": "stdout",
          "text": [
            "nohtyp\n"
          ]
        }
      ]
    },
    {
      "cell_type": "markdown",
      "source": [
        "###Concatenate \"Hello\" and \"World\" with a space in between."
      ],
      "metadata": {
        "id": "Gf2wDwP1Psi6"
      }
    },
    {
      "cell_type": "code",
      "source": [
        "a=\"Hello\"\n",
        "b=\"World\"\n",
        "new_ab=(a + \" \" + b)\n",
        "print(new_ab)"
      ],
      "metadata": {
        "colab": {
          "base_uri": "https://localhost:8080/"
        },
        "id": "21YYQ9xQPuh2",
        "outputId": "8156a2ac-497d-46b9-b9a4-5f031d22852f"
      },
      "execution_count": 40,
      "outputs": [
        {
          "output_type": "stream",
          "name": "stdout",
          "text": [
            "Hello World\n"
          ]
        }
      ]
    },
    {
      "cell_type": "markdown",
      "source": [
        "###Count how many times the letter \"a\" appears in \"banana\"."
      ],
      "metadata": {
        "id": "xsTY9dlvQ_GV"
      }
    },
    {
      "cell_type": "code",
      "source": [
        "word='banana'\n",
        "count=word.count(\"a\")\n",
        "print(count)"
      ],
      "metadata": {
        "colab": {
          "base_uri": "https://localhost:8080/"
        },
        "id": "Xn_z9cO_RKWe",
        "outputId": "cbb1945b-982a-43dd-bd24-44b13e655f0b"
      },
      "execution_count": 41,
      "outputs": [
        {
          "output_type": "stream",
          "name": "stdout",
          "text": [
            "3\n"
          ]
        }
      ]
    },
    {
      "cell_type": "markdown",
      "source": [
        "###Replace all spaces in a sentence with hyphens."
      ],
      "metadata": {
        "id": "jqnn3bG-R5KY"
      }
    },
    {
      "cell_type": "code",
      "source": [
        "sentence=input(\"enter a sentence:\")\n",
        "modified_sentence=sentence.replace(\" \",\"-\")\n",
        "print(\"modified_sentence:\",modified_sentence)"
      ],
      "metadata": {
        "colab": {
          "base_uri": "https://localhost:8080/"
        },
        "id": "4u_fFPAUR7Rc",
        "outputId": "50950a93-9c45-4489-ba54-b125ef2a3ed4"
      },
      "execution_count": 44,
      "outputs": [
        {
          "output_type": "stream",
          "name": "stdout",
          "text": [
            "enter a sentence:poorna is a clever boy\n",
            "modified_sentence: poorna-is-a-clever-boy\n"
          ]
        }
      ]
    },
    {
      "cell_type": "markdown",
      "source": [
        "###Check if a string starts with \"A\".\n",
        "\n"
      ],
      "metadata": {
        "id": "xPfv3Wg2Sv79"
      }
    },
    {
      "cell_type": "code",
      "source": [
        "text='Animal'\n",
        "text.startswith(\"A\")"
      ],
      "metadata": {
        "colab": {
          "base_uri": "https://localhost:8080/"
        },
        "id": "4io4pvx6SzPQ",
        "outputId": "55ac0318-2666-4598-b0d1-4fc6d13aa1df"
      },
      "execution_count": 51,
      "outputs": [
        {
          "output_type": "execute_result",
          "data": {
            "text/plain": [
              "True"
            ]
          },
          "metadata": {},
          "execution_count": 51
        }
      ]
    },
    {
      "cell_type": "markdown",
      "source": [
        "###Find the number of words in a sentence."
      ],
      "metadata": {
        "id": "2C9q6iOsTmcU"
      }
    },
    {
      "cell_type": "code",
      "source": [
        "sentence=input(\"enter a sentence:\")\n",
        "words=sentence.split()\n",
        "print(\"no of words:\",len(words))"
      ],
      "metadata": {
        "colab": {
          "base_uri": "https://localhost:8080/"
        },
        "id": "H3a1RCsFTr8F",
        "outputId": "b55c063d-6fa7-483b-e006-3fb7d116f857"
      },
      "execution_count": 54,
      "outputs": [
        {
          "output_type": "stream",
          "name": "stdout",
          "text": [
            "enter a sentence:balaji is my best friend\n",
            "no of words: 5\n"
          ]
        }
      ]
    },
    {
      "cell_type": "markdown",
      "source": [
        "###Input a sentence and print each word on a new line."
      ],
      "metadata": {
        "id": "pBLsKrXlUrg6"
      }
    },
    {
      "cell_type": "code",
      "source": [
        "sentence=input(\"enter a sentence:\")\n",
        "words=sentence.split()\n",
        "\n",
        "for word in words:\n",
        "  print(word)"
      ],
      "metadata": {
        "colab": {
          "base_uri": "https://localhost:8080/"
        },
        "id": "UcxbVgnWUGzv",
        "outputId": "d393c3cb-d242-414a-acfc-fc9b21fab307"
      },
      "execution_count": 55,
      "outputs": [
        {
          "output_type": "stream",
          "name": "stdout",
          "text": [
            "enter a sentence:kumar is my brother\n",
            "kumar\n",
            "is\n",
            "my\n",
            "brother\n"
          ]
        }
      ]
    }
  ]
}